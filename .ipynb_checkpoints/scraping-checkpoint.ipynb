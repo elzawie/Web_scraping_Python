{
 "cells": [
  {
   "cell_type": "markdown",
   "metadata": {},
   "source": [
    "### Importing necessary libraries"
   ]
  },
  {
   "cell_type": "code",
   "execution_count": 1,
   "metadata": {},
   "outputs": [],
   "source": [
    "import certifi\n",
    "import urllib3\n",
    "import pandas as pd\n",
    "import unicodedata\n",
    "import re\n",
    "from bs4 import BeautifulSoup"
   ]
  },
  {
   "cell_type": "markdown",
   "metadata": {},
   "source": [
    "### Retrieving data from specified addresses, converting and saving into a dictionary"
   ]
  },
  {
   "cell_type": "code",
   "execution_count": 2,
   "metadata": {},
   "outputs": [],
   "source": [
    "#Specify the url\n",
    "urls = [\"https://en.wikipedia.org/wiki/Carfax_(company)\", \"https://en.wikipedia.org/wiki/Apple_Inc.\", \n",
    "        \"https://en.wikipedia.org/wiki/Thomson_Reuters\", \"https://en.wikipedia.org/wiki/IHS_Markit\"]"
   ]
  },
  {
   "cell_type": "code",
   "execution_count": 3,
   "metadata": {},
   "outputs": [],
   "source": [
    "#Query the website with SSL certificates verification and return the html to the variable 'response'\n",
    "http = urllib3.PoolManager(cert_reqs = \"CERT_REQUIRED\", ca_certs = certifi.where())\n",
    "\n",
    "def wiki_scraper(urls):\n",
    "    topic_info_dict = {}\n",
    "    for url in urls:\n",
    "        response = http.request('GET', url)\n",
    "        soup = BeautifulSoup(response.data, \"lxml\")\n",
    "        topic_name = soup.find('h1').text\n",
    "        links_list = [link.get(\"href\") for link in soup.find_all(\"a\", href = lambda href: href and \"http\" in href)]\n",
    "        h2h3_list = [span.text for span in soup.find_all(\"span\", attrs = {'class' : 'mw-headline'})]\n",
    "        p_list = [p.text for p in soup.find_all('p') if p.text != '']\n",
    "        for index, paragraph in enumerate(p_list):\n",
    "            paragraph = re.sub(r'\\[(\\d+)\\]', '', paragraph)\n",
    "            paragraph = re.sub(r'\\[.*?\\]', '', paragraph)\n",
    "            paragraph = re.sub(r'\\ufeff', '', paragraph)\n",
    "            paragraph = unicodedata.normalize('NFKD', paragraph)\n",
    "            p_list[index] = paragraph    \n",
    "        topic_info_dict[topic_name] = {'topic_name' : topic_name, 'associated_links': links_list, 'headlines' : h2h3_list, 'informations' : p_list}\n",
    "\n",
    "    return topic_info_dict"
   ]
  },
  {
   "cell_type": "code",
   "execution_count": 4,
   "metadata": {},
   "outputs": [
    {
     "data": {
      "text/plain": [
       "dict_keys(['Carfax (company)', 'Apple Inc.', 'Thomson Reuters', 'IHS Markit'])"
      ]
     },
     "execution_count": 4,
     "metadata": {},
     "output_type": "execute_result"
    }
   ],
   "source": [
    "dict1 = wiki_scraper(urls)\n",
    "dict1.keys()"
   ]
  },
  {
   "cell_type": "code",
   "execution_count": 5,
   "metadata": {},
   "outputs": [
    {
     "data": {
      "text/plain": [
       "dict_keys(['topic_name', 'associated_links', 'headlines', 'informations'])"
      ]
     },
     "execution_count": 5,
     "metadata": {},
     "output_type": "execute_result"
    }
   ],
   "source": [
    "dict1['Carfax (company)'].keys()"
   ]
  },
  {
   "cell_type": "markdown",
   "metadata": {},
   "source": [
    "### Displaying paragraphs"
   ]
  },
  {
   "cell_type": "code",
   "execution_count": 6,
   "metadata": {},
   "outputs": [
    {
     "name": "stdout",
     "output_type": "stream",
     "text": [
      "Carfax, Inc. is a commercial web-based service that supplies vehicle history reports to individuals and businesses on used cars and light trucks for the American and Canadian consumers.\n",
      "\n",
      "\n",
      "In 1984 Carfax was founded in Columbia, Missouri, by a computer professional named Ewin Barnett III working together with Robert Daniel Clark, an accountant from Huntingdon, Pennsylvania. The company is now headquartered in Centreville, Virginia, with a data center operation in Columbia, Missouri. Barnett was initially trying to combat odometer fraud. By working closely with the Missouri Automobile Dealers Association, in 1986 he offered the early version Carfax vehicle history report to the dealer market. These reports were developed with a database of just 10,000 records and were distributed via fax machine. By the end of 1993, Carfax obtained title information from nearly all fifty states. In December 1996, the company's website was launched to offer consumers the same vehicle history reports already available to businesses. In the fall of 1999, Carfax became a wholly owned subsidiary of R.L. Polk & Company. In 2013, IHS acquired Polk and Carfax, which added to its Automotive offerings. In 2013 Carfax introduced a free service to help vehicle owners keep their cars well maintained – myCARFAX. Car owners can track their service history, receive automatic service alerts and get critical information about open safety recalls reported for their car. In March 2016 IHS had a merger of equals with Markit, and in July of that year became IHS Markit.\n",
      "\n",
      "\n",
      "Carfax offers several free products and services and charges a fee for more comprehensive reports.\n",
      "\n",
      "\n",
      "In 2013, Carfax launched a new free service called myCARFAX. The service provides free access to vehicle service information reported to the company and alerts users to recommended maintenance.\n",
      "\n",
      "\n",
      "The company offers four vehicle research services—Lemon Check, Record Check, Recall Check, and Problem Car. While these services are helpful, they do not contain all of the information provided in a full Carfax vehicle history report.\n",
      "\n",
      "\n",
      "The company also provides Car Safety and Reliability Ratings, which provides access to reviews and other data from sources such as the National Highway Traffic Safety Administration, the Insurance Institute for Highway Safety, J.D. Power and Associates, IntelliChoice and others.\n",
      "\n",
      "\n",
      "The Carfax Vehicle History Report is the company's core product. Users purchase either a single report or create an account for building multiple reports for different vehicles, allowing consumers to utilize Carfax over a period of time as they search for a vehicle. Additionally, buyers can request Carfax reports for free from auto dealers who offer Carfax service, and some automakers routinely provide Carfax reports as part of their pre-owned vehicle programs.\n",
      "\n",
      "\n",
      "In early 2012 the company launched a new service which uses service information reported to CARFAX to help vehicle owners with things like oil changes and routine vehicle maintenance. The service was later expanded to include alerts about open safety recalls issued by vehicle manufacturers. Vehicle owners who are interested in having service information included on their CARFAX Vehicle History Report can find local service shops who will report them to CARFAX.\n",
      "\n",
      "\n",
      "In April 2014, Carfax introduced another free service called CARFAX Used Car Listings. The new service gives used car shoppers the opportunity to search for used cars using make, model, and a vehicle's history. For example, consumers may search for vehicles with \"no reported accident\" or \"service records\".\n",
      "\n",
      "\n",
      "Carfax claims to have access to seventeen billion records from more than 100,000 sources, including motor vehicle departments for all 50 U.S. states and all 10 Canadian provinces. The company's information sources include U.S. state title and registration records, auto and salvage auctions, Canadian motor vehicle records, rental and fleet vehicle companies, consumer protection agencies, state inspection stations, extended warranty companies, insurance companies, fire and police departments, manufacturers, inspection companies, service and repair facilities, dealers and import/export companies.\n",
      "\n",
      "\n",
      "CARFAX lists only information that is reported to them and consumers should not take this report to be a complete accident history. Not all accidents are disclosed and CARFAX uses the language \"no accidents have been reported to CARFAX,\" the emphasis being on \"reported\". Consumers should not rely on CARFAX alone when checking out a used vehicle.\n",
      "\n",
      "\n",
      "Although Carfax continuously expands its database and resources, some information is not allowed to be provided. Under the 1994 U.S. Drivers Privacy Protection Act, personal information such as names, telephone numbers and addresses of current or previous owners are neither collected nor reported. Carfax does not have access to every facility and mistakes are sometimes made by those who input data. In the event information is disputed but cannot be verified, Carfax allows consumers and dealerships to add information to its reports.\n",
      "\n",
      "\n",
      "In a 2006 class action lawsuit, West v. Carfax, Inc., the plaintiff claimed that Carfax violated consumer protection laws by not disclosing the limitations of their service, specifically their inability to check accident records in 23 states in the U.S. while stating that their database contains information from all 50 states. The lawsuit was settled in May 2007 in the Trumbull County Common Pleas Court in Warren, Ohio. Carfax spokesman Larry Gamache said more than 10 million consumers were affected. The company asserts that it has major accident information from all 50 states and it backs up its claim with a buyback guarantee. The settlement in the West v. Carfax, Inc lawsuit was overturned, not on the merits of the issue, but on the terms of the settlement which did not offer enough to the impacted consumers and because \"not enough consumers were notified and the judge should not have agreed to the settlement without knowing more about what it would cost Carfax.\n",
      "\n",
      "\n"
     ]
    }
   ],
   "source": [
    "for paragraph in dict1['Carfax (company)']['informations']:\n",
    "    print(paragraph + '\\n\\n')"
   ]
  },
  {
   "cell_type": "markdown",
   "metadata": {},
   "source": [
    "### Displaying hyperlinks"
   ]
  },
  {
   "cell_type": "code",
   "execution_count": 7,
   "metadata": {},
   "outputs": [
    {
     "name": "stdout",
     "output_type": "stream",
     "text": [
      "http://www.carfax.com/\n",
      "\n",
      "http://www.westcarsettlement.com/\n",
      "\n",
      "http://www.carfax.com/press/releases/fairfax-county-eda-presents-carfax-with-virginia-grant-for-headquarters-expansion\n",
      "\n",
      "http://www.consumeraffairs.com/news04/2006/10/carfax_history.html\n",
      "\n",
      "http://www.tcautos.com/carfax.html\n",
      "\n",
      "https://web.archive.org/web/20081227054147/http://www.tcautos.com/carfax.html\n",
      "\n",
      "http://press.ihs.com/press-release/corporate-financial/ihs-completes-three-strategic-acquisitions\n",
      "\n",
      "https://web.archive.org/web/20151004161432/http://news.carfax.com/2013-06-20-Carfax-Unveils-New-Car-Care-Mobile-App\n",
      "\n",
      "http://news.carfax.com/2013-06-20-Carfax-Unveils-New-Car-Care-Mobile-App\n",
      "\n",
      "https://www.cnbc.com/2016/03/21/ihs-and-markit-to-merge-in-deal-valued-at-more-than-13b.html\n",
      "\n",
      "https://web.archive.org/web/20151004161432/http://news.carfax.com/2013-06-20-Carfax-Unveils-New-Car-Care-Mobile-App\n",
      "\n",
      "http://news.carfax.com/2013-06-20-Carfax-Unveils-New-Car-Care-Mobile-App\n",
      "\n",
      "http://legacygt.com/forums/showthread.php?t=67083\n",
      "\n",
      "http://www.ad-hoc-news.de/CorporateNews/en/14219612/Saturn-Selects-Carfax-for-Certified-PreOwned-Program\n",
      "\n",
      "https://web.archive.org/web/20120208052610/http://www.ad-hoc-news.de/CorporateNews/en/14219612/Saturn-Selects-Carfax-for-Certified-PreOwned-Program\n",
      "\n",
      "http://www.kshb.com/money/consumer/mycarfax-free-app-makes-keeping-track-of-recalls-easy-with-your-license-plate-rather-than-vin\n",
      "\n",
      "http://www.autodealermonthly.com/news/story/2015/04/shiftmobility-integrates-carfax-information-into-shoplite-app.aspx\n",
      "\n",
      "http://www.carfax.com/about/data_sources.cfx\n",
      "\n",
      "http://www.accessreports.com/statutes/DPPA1.htm\n",
      "\n",
      "http://abclocal.go.com/kgo/story?section=7on_your_side&id=3806247\n",
      "\n",
      "http://www.citizen.org/litigation/forms/cases/CaseDetails.cfm?cID=398\n",
      "\n",
      "https://www.nytimes.com/2007/05/06/automobiles/06CARF.html?_r=2&pagewanted=print&oref=slogin&oref=slogin\n",
      "\n",
      "http://www.boston.com/cars/news/articles/2007/04/15/deal_in_carfax_lawsuit_draws_fire/\n",
      "\n",
      "http://wheels.blogs.nytimes.com/2009/12/31/heavily-criticized-carfax-settlement-ruling-is-overturned/\n",
      "\n",
      "http://www.carfax.com/\n",
      "\n",
      "http://aboutcarsreviews.com/carfax-report/\n",
      "\n",
      "https://en.wikipedia.org/w/index.php?title=Carfax_(company)&oldid=831338007\n",
      "\n",
      "https://donate.wikimedia.org/wiki/Special:FundraiserRedirector?utm_source=donate&utm_medium=sidebar&utm_campaign=C13_en.wikipedia.org&uselang=en\n",
      "\n",
      "https://www.wikidata.org/wiki/Special:EntityPage/Q5039240\n",
      "\n",
      "https://sv.wikipedia.org/wiki/Carfax_(f%C3%B6retag)\n",
      "\n",
      "https://www.wikidata.org/wiki/Special:EntityPage/Q5039240#sitelinks-wikipedia\n",
      "\n",
      "https://wikimediafoundation.org/wiki/Privacy_policy\n",
      "\n",
      "https://www.mediawiki.org/wiki/Special:MyLanguage/How_to_contribute\n",
      "\n",
      "https://wikimediafoundation.org/wiki/Cookie_statement\n",
      "\n",
      "https://wikimediafoundation.org/\n",
      "\n"
     ]
    }
   ],
   "source": [
    "for hyperlink in dict1['Carfax (company)']['associated_links']:\n",
    "    print(hyperlink + '\\n')"
   ]
  }
 ],
 "metadata": {
  "kernelspec": {
   "display_name": "Python 3",
   "language": "python",
   "name": "python3"
  },
  "language_info": {
   "codemirror_mode": {
    "name": "ipython",
    "version": 3
   },
   "file_extension": ".py",
   "mimetype": "text/x-python",
   "name": "python",
   "nbconvert_exporter": "python",
   "pygments_lexer": "ipython3",
   "version": "3.6.4"
  }
 },
 "nbformat": 4,
 "nbformat_minor": 2
}
